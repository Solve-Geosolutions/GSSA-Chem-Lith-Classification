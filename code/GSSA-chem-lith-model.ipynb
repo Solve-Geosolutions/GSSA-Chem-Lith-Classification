{
 "cells": [
  {
   "cell_type": "code",
   "execution_count": null,
   "metadata": {},
   "outputs": [],
   "source": [
    "# set working directory\n",
    "import sys\n",
    "import os\n",
    "from pathlib import Path\n",
    "sys.path.insert(0, Path(os.getcwd()).parent)\n",
    "os.chdir(sys.path[0])"
   ]
  },
  {
   "attachments": {},
   "cell_type": "markdown",
   "metadata": {},
   "source": [
    "#  GSSA Public Data Lithology Classification Model"
   ]
  },
  {
   "cell_type": "code",
   "execution_count": null,
   "metadata": {},
   "outputs": [],
   "source": [
    "# Import Packages\n",
    "import plotly.io as pio\n",
    "import pandas as pd\n",
    "import matplotlib.pyplot as plt\n",
    "from matplotlib.colors import ListedColormap\n",
    "import numpy as np\n",
    "import seaborn as sns"
   ]
  },
  {
   "attachments": {},
   "cell_type": "markdown",
   "metadata": {},
   "source": [
    "## Import XRF Chemistry Data"
   ]
  },
  {
   "cell_type": "code",
   "execution_count": null,
   "metadata": {},
   "outputs": [],
   "source": [
    "pd.set_option(\"display.max_columns\", 10)"
   ]
  },
  {
   "cell_type": "code",
   "execution_count": null,
   "metadata": {},
   "outputs": [],
   "source": [
    "# Import chemistry data and examine the first 5 rows\n",
    "clean_df = pd.read_csv('data/cleaned_pivoted_chem.csv')\n",
    "clean_df.iloc[:, [0, 7] + list(range(16, len(clean_df.columns)))].head()"
   ]
  },
  {
   "cell_type": "code",
   "execution_count": null,
   "metadata": {},
   "outputs": [],
   "source": [
    "clean_df.value_counts(\"LITHOLOGY_NAME\")"
   ]
  },
  {
   "attachments": {},
   "cell_type": "markdown",
   "metadata": {},
   "source": [
    "# Clean data"
   ]
  },
  {
   "cell_type": "code",
   "execution_count": null,
   "metadata": {},
   "outputs": [],
   "source": [
    "# Remove records where the LITHOLOGY_NAME is absent\n",
    "df = clean_df.dropna(subset=['LITHOLOGY_NAME'])\n",
    "df = df.drop(['COLLECTORS_NUMBER', 'LITHO_CONF', 'LITHO_MODIFIER', 'STRAT_CONF'], axis= 1)\n",
    "df.info()"
   ]
  },
  {
   "attachments": {},
   "cell_type": "markdown",
   "metadata": {},
   "source": [
    "# Explore data"
   ]
  },
  {
   "cell_type": "code",
   "execution_count": null,
   "metadata": {},
   "outputs": [],
   "source": [
    "# Create a dataframe of hole locations\n",
    "map = df.drop_duplicates(subset=['DH_NAME'], keep='first')\n",
    "map.to_csv('outputs/map.csv')"
   ]
  },
  {
   "cell_type": "code",
   "execution_count": null,
   "metadata": {},
   "outputs": [],
   "source": [
    "# Checkout the dominant class sets\n",
    "Vis = df.groupby([\"LITHOLOGY_NAME\"]).size().sort_values(ascending=False).reset_index(name='count') \n",
    "\n",
    "plt.figure(figsize=(5,8))\n",
    "sns.barplot(data=Vis, y=\"LITHOLOGY_NAME\", x=\"count\")"
   ]
  },
  {
   "attachments": {},
   "cell_type": "markdown",
   "metadata": {},
   "source": [
    "## Visualise an Example Striplog"
   ]
  },
  {
   "cell_type": "code",
   "execution_count": null,
   "metadata": {},
   "outputs": [],
   "source": [
    "# group by random drill hole and print out unique lithofacies\n",
    "hole = df.loc[df['DH_NAME'] == 'MSDP01']\n",
    "hole = hole.dropna(subset = ['LITHOLOGY_NAME'])\n",
    "hole = hole.sort_values(by=['DH_DEPTH_FROM'])\n",
    "\n",
    "print(hole['LITHOLOGY_NAME'].unique())"
   ]
  },
  {
   "cell_type": "code",
   "execution_count": null,
   "metadata": {},
   "outputs": [],
   "source": [
    "# Visualise Lithologies on a Strip Log\n",
    "plt.rcParams[\"font.size\"] = 14\n",
    "# Compare the results of clustering and cuttings interp\n",
    "d1 = {'Siltstone': 1, 'Dolomite Rock': 2, 'Rhyolite': 3, 'Breccia (Undiff. Origin)': 4, 'Basalt': 5, 'Sedimentary Siliciclastic Breccia': 6, 'Volcaniclastic Rock': 7,\n",
    "      'Ignimbrite': 8}\n",
    "colors1 = ['green', 'blue','red', 'pink', 'purple', 'blue', 'orange', 'grey', 'yellow']\n",
    "cmap1 = ListedColormap(colors1)\n",
    "\n",
    "#Create function for strip log\n",
    "def striplog(hole, bottom_depth, top_depth, var1, var2):\n",
    "    fig, ax = plt.subplots(figsize=(7,6))\n",
    "\n",
    "    #Set up the plot axes\n",
    "    ax1 = plt.subplot2grid((1,3), (0,0), rowspan=1, colspan = 1)\n",
    "    ax2 = plt.subplot2grid((1,3), (0,1), rowspan=1, colspan = 1, sharey = ax1)\n",
    "    ax3 = plt.subplot2grid((1,3), (0,2), rowspan=1, colspan = 1, sharey = ax1)\n",
    "\n",
    "    # MSDP01 Ti track\n",
    "    ax1.plot(hole[var1], hole['DH_DEPTH_FROM'], color = \"black\", linewidth = 1.0)\n",
    "    ax1.set_xlabel(var1)\n",
    "    ax1.set_xlim(0, 15000)\n",
    "    ax1.xaxis.label.set_color(\"black\")\n",
    "    ax1.tick_params(axis='x', colors=\"black\")\n",
    "    ax1.spines[\"top\"].set_edgecolor(\"black\")\n",
    "    ax1.set_xticks(np.arange(0, 15000, 10000))\n",
    "\n",
    "    # MSDP01 P track\n",
    "    ax2.plot(hole[var2], hole['DH_DEPTH_FROM'], color = \"black\", linewidth = 1.0)\n",
    "    ax2.set_xlabel(var2)\n",
    "    ax2.set_xlim(0, 5000)\n",
    "    ax2.xaxis.label.set_color(\"black\")\n",
    "    ax2.tick_params(axis='x', colors=\"black\")\n",
    "    ax2.spines[\"top\"].set_edgecolor(\"black\")\n",
    "    ax2.set_xticks(np.arange(0, 5000, 2000))\n",
    "\n",
    "    # Lithofacies\n",
    "    ax3.pcolormesh([-1, 3], hole['DH_DEPTH_FROM'], hole['LITHOLOGY_NAME'][:-1].map(d1).to_numpy().reshape(-1, 1),\n",
    "              cmap=cmap1, vmin=1, vmax=len(colors1))\n",
    "    ax3.set_xticks([])\n",
    "    ax3.set_aspect(0.01)\n",
    "    ax3.set_xlabel(\"Logged Lithofacies\")\n",
    "\n",
    "    for ax in [ax1, ax2, ax3]:\n",
    "        ax.set_ylim(bottom_depth, top_depth)\n",
    "        ax.grid(which='major', color='lightgrey', linestyle='-', axis=\"y\")\n",
    "        ax.xaxis.set_ticks_position(\"bottom\")\n",
    "        ax.xaxis.set_label_position(\"top\")\n",
    "        ax.spines[\"top\"].set_position((\"axes\", 1.02))\n",
    "        \n",
    "    for ax in [ax2, ax3]:\n",
    "        plt.setp(ax.get_yticklabels(), visible = False)\n",
    "       \n",
    "    plt.tight_layout()\n",
    "    fig.subplots_adjust(wspace = 0.15)\n",
    "\n",
    "striplog(hole, 1120, 20, \"Ti_ppm\", \"P_ppm\")\n",
    "\n",
    "plt.savefig('outputs/MSDP01.png', transparent=True)\n",
    "plt.show()"
   ]
  },
  {
   "attachments": {},
   "cell_type": "markdown",
   "metadata": {},
   "source": [
    "## Examine Class Distribution in Dataset"
   ]
  },
  {
   "cell_type": "code",
   "execution_count": null,
   "metadata": {},
   "outputs": [],
   "source": [
    "# binarize the Dependant Variable\n",
    "bin = df.copy()\n",
    "bin['LITHOLOGY_NAME'] = (bin['LITHOLOGY_NAME'] == 'Basalt').astype(int)\n",
    "\n",
    "# Define X and y\n",
    "X = bin.loc[:,'Ag_ppm':'Zr_ppm']\n",
    "y = bin['LITHOLOGY_NAME']"
   ]
  },
  {
   "cell_type": "code",
   "execution_count": null,
   "metadata": {},
   "outputs": [],
   "source": [
    "X.columns"
   ]
  },
  {
   "cell_type": "code",
   "execution_count": null,
   "metadata": {},
   "outputs": [],
   "source": [
    "plt.rcParams[\"font.size\"] = 12\n",
    "# visualise labels for each drill-hole\n",
    "grpd = bin.groupby(['DH_NAME','LITHOLOGY_NAME']).size().reset_index().rename(columns={0: 'Sum'})\n",
    "grpd[\"Lithology\"] = grpd[\"LITHOLOGY_NAME\"].apply(lambda x: \"Basalt\" if x == 1 else \"Non-basalt\")\n",
    "# grouped barplot\n",
    "# sns.barplot(x=\"DH_NAME\", y=\"Sum\", hue=\"LITHOLOGY_NAME\", data=grpd, dodge = True)\n",
    "\n",
    "# One liner to create a stacked bar chart.\n",
    "fig, ax = plt.subplots(figsize = (5,4))\n",
    "sns.histplot(grpd, x='DH_NAME', hue='Lithology', weights='Sum',\n",
    "             multiple='stack', shrink=0.8, ax=ax, palette={\"Basalt\": \"purple\", \"Non-basalt\": \"lightgrey\"})\n",
    "# Fix the legend so it's not on top of the bars.\n",
    "legend = ax.get_legend()\n",
    "legend.set_bbox_to_anchor((1, 1))\n",
    "plt.xticks(rotation=45)\n",
    "plt.xlabel(\"Drillhole name\")\n",
    "plt.ylabel(\"Number of samples\")\n",
    "plt.title(\"Class distribution per hole\")\n",
    "plt.tight_layout()\n",
    "plt.savefig('outputs/Class_imbalance.png', transparent=True)\n"
   ]
  },
  {
   "attachments": {},
   "cell_type": "markdown",
   "metadata": {},
   "source": [
    "## Investigate chemistry of mafics"
   ]
  },
  {
   "cell_type": "code",
   "execution_count": null,
   "metadata": {},
   "outputs": [],
   "source": [
    "plt.rcParams[\"font.size\"] = 12\n",
    "\n",
    "df[\"Lithology_simplified\"] = df[\"LITHOLOGY_NAME\"].apply(lambda x: x if x in [\"Basalt\", \"Meta-Mafic Igneous Rock\", \"Dolerite\", \"Gabbro\"] else \"Other\")\n",
    "df[\"Lithology_simplified\"] = df[\"Lithology_simplified\"].str.replace(\"Meta-Mafic Igneous Rock\", \"Meta-Mafic Igneous\")\n",
    "fig, ax = plt.subplots(nrows=1, ncols=2, figsize=(10, 5))\n",
    "\n",
    "plt.sca(ax[0])\n",
    "sns.scatterplot(data=df.sort_values(\"Lithology_simplified\", ascending=False), x=\"Zr_ppm\", y=\"Ti_ppm\", hue=\"Lithology_simplified\", \n",
    "                palette={\"Other\": \"lightgrey\", \"Basalt\": \"purple\", \"Rhyolite\": \"red\", \"Dacite\": \"green\", \"Meta-Mafic Igneous\": \"orange\", \"Dolerite\": \"skyblue\", \"Gabbro\": \"skyblue\"},\n",
    "                legend=False)\n",
    "plt.xscale(\"linear\")\n",
    "plt.yscale(\"linear\")\n",
    "\n",
    "plt.sca(ax[1])\n",
    "sns.scatterplot(data=df.sort_values(\"Lithology_simplified\", ascending=False), x=\"Y_ppm\", y=\"Nb_ppm\", hue=\"Lithology_simplified\", \n",
    "                palette={\"Other\": \"lightgrey\", \"Basalt\": \"purple\", \"Rhyolite\": \"red\", \"Dacite\": \"green\", \"Meta-Mafic Igneous\": \"orange\", \"Dolerite\": \"skyblue\", \"Gabbro\": \"skyblue\"})\n",
    "plt.xscale(\"linear\")\n",
    "plt.yscale(\"linear\")\n",
    "plt.xlim(0,100)\n",
    "legend = ax[1].get_legend()\n",
    "legend.set_title(None)\n",
    "\n",
    "plt.savefig(\"outputs/chemistry_scatterplots.png\", transparent = True)\n",
    "plt.show()\n"
   ]
  },
  {
   "cell_type": "code",
   "execution_count": null,
   "metadata": {},
   "outputs": [],
   "source": [
    "plt.rcParams[\"font.size\"] = 12\n",
    "\n",
    "df[\"Lithology_simplified\"] = df[\"LITHOLOGY_NAME\"].apply(lambda x: x if x in [\"Basalt\", \"Meta-Mafic Igneous Rock\", \"Dolerite\", \"Gabbro\"] else \"Other\")\n",
    "df[\"Lithology_simplified\"] = df[\"Lithology_simplified\"].str.replace(\"Meta-Mafic Igneous Rock\", \"Meta-Mafic Igneous\")\n",
    "df[\"Hole_of_interest\"] = df[\"DH_NAME\"].apply(lambda x: x if x == \"MSDP02\" else \"Other holes\")\n",
    "fig, ax = plt.subplots(nrows=1, ncols=2, figsize=(10, 5))\n",
    "\n",
    "plt.sca(ax[0])\n",
    "sns.scatterplot(data=df.sort_values(\"Lithology_simplified\", ascending=False), x=\"Zr_ppm\", y=\"Ti_ppm\", hue=\"Lithology_simplified\", style=\"Hole_of_interest\",\n",
    "                palette={\"Other\": \"lightgrey\", \"Basalt\": \"purple\", \"Rhyolite\": \"red\", \"Dacite\": \"green\", \"Meta-Mafic Igneous\": \"orange\", \"Dolerite\": \"skyblue\", \"Gabbro\": \"skyblue\"},\n",
    "                legend=False)\n",
    "plt.xscale(\"linear\")\n",
    "plt.yscale(\"linear\")\n",
    "\n",
    "plt.sca(ax[1])\n",
    "sns.scatterplot(data=df.sort_values(\"Lithology_simplified\", ascending=False), x=\"Y_ppm\", y=\"Nb_ppm\", hue=\"Lithology_simplified\", style=\"Hole_of_interest\",\n",
    "                palette={\"Other\": \"lightgrey\", \"Basalt\": \"purple\", \"Rhyolite\": \"red\", \"Dacite\": \"green\", \"Meta-Mafic Igneous\": \"orange\", \"Dolerite\": \"skyblue\", \"Gabbro\": \"skyblue\"})\n",
    "plt.xscale(\"linear\")\n",
    "plt.yscale(\"linear\")\n",
    "plt.xlim(0,100)\n",
    "legend = ax[1].get_legend()\n",
    "legend.set_title(None)\n",
    "\n",
    "plt.savefig(\"outputs/chemistry_scatterplots_w_hole_marked.png\", transparent = True)\n",
    "plt.show()\n"
   ]
  },
  {
   "attachments": {},
   "cell_type": "markdown",
   "metadata": {},
   "source": [
    "# Run an initial model with a random train/test split"
   ]
  },
  {
   "cell_type": "code",
   "execution_count": null,
   "metadata": {},
   "outputs": [],
   "source": [
    "plt.rcParams[\"font.size\"] = 16\n",
    "# run a random forest model with no sampling process\n",
    "from sklearn.ensemble import RandomForestClassifier\n",
    "from sklearn.model_selection import train_test_split\n",
    "from sklearn.metrics import matthews_corrcoef, balanced_accuracy_score, roc_auc_score, accuracy_score\n",
    "from sklearn.metrics import confusion_matrix, ConfusionMatrixDisplay\n",
    "\n",
    "# Invoke Random Train Test split\n",
    "X_train, X_test, y_train, y_test = train_test_split(X, y, test_size=0.30, random_state=42)\n",
    "\n",
    "\n",
    "RF = RandomForestClassifier(random_state=42) # Create classifier\n",
    "RF.fit(X_train, y_train) # train the model\n",
    "y_pred_train = RF.predict(X_train) # generate predictions for training set\n",
    "y_pred_RF = RF.predict(X_test) # generate predictions for test set\n",
    "\n",
    "# Calculate the Performance Metrics\n",
    "print(\"Test Set Accuracy: {:.3f} %\".format(accuracy_score(y_test, y_pred_RF)))\n",
    "print(\"Test Set Balanced Accuracy: {:.3f} %\".format(balanced_accuracy_score(y_test, y_pred_RF)))\n",
    "print(\"Test Set Matthews Correlation Coefficient: {:.3f} %\".format(matthews_corrcoef(y_test, y_pred_RF)))\n",
    "print(\"Test Set ROC AUC: {:.3f} %\".format(roc_auc_score(y_test, y_pred_RF)))\n",
    "\n",
    "# Confusion Matrix\n",
    "cm = confusion_matrix(y_test, y_pred_RF, labels=RF.classes_)\n",
    "disp = ConfusionMatrixDisplay(confusion_matrix=cm, display_labels=RF.classes_)\n",
    "disp.plot()\n",
    "\n",
    "plt.show()"
   ]
  },
  {
   "attachments": {},
   "cell_type": "markdown",
   "metadata": {},
   "source": [
    "## Test model performance by holding out a single hole"
   ]
  },
  {
   "cell_type": "code",
   "execution_count": null,
   "metadata": {},
   "outputs": [],
   "source": [
    "# Create function for holding out individual holes\n",
    "def hold_out(hole_id):\n",
    "    hole = bin.loc[df['DH_NAME'] == hole_id]\n",
    "    train = bin.loc[df['DH_NAME'] != hole_id]\n",
    "\n",
    "    return(hole, train)\n",
    "\n",
    "# Create list of holes \n",
    "holes = df['DH_NAME'].unique()"
   ]
  },
  {
   "cell_type": "code",
   "execution_count": null,
   "metadata": {},
   "outputs": [],
   "source": [
    "# Define train and test example for a single hole\n",
    "test, train = hold_out('MSDP01')\n",
    "\n",
    "# Create X and y variables\n",
    "X_test = test.loc[:,'Ag_ppm':'Zr_ppm']\n",
    "X_train = train.loc[:,'Ag_ppm':'Zr_ppm']\n",
    "\n",
    "y_test = test['LITHOLOGY_NAME']\n",
    "y_train = train['LITHOLOGY_NAME']\n",
    "\n",
    "# Show imbalnced class sets for MSDP01\n",
    "train.groupby(['LITHOLOGY_NAME']).size().plot.bar()"
   ]
  },
  {
   "cell_type": "code",
   "execution_count": null,
   "metadata": {},
   "outputs": [],
   "source": [
    "# run a random forest model with no sampling process\n",
    "from sklearn.ensemble import RandomForestClassifier\n",
    "from sklearn.metrics import matthews_corrcoef, balanced_accuracy_score, roc_auc_score\n",
    "from sklearn.metrics import confusion_matrix, ConfusionMatrixDisplay\n",
    "\n",
    "RF = RandomForestClassifier(random_state=42) # Create classifier\n",
    "RF.fit(X_train, y_train) # train the model\n",
    "y_pred_train = RF.predict(X_train) # generate predictions for training set\n",
    "y_pred_RF = RF.predict(X_test) # generate predictions for test set\n",
    "\n",
    "# Calculate the Performance Metrics\n",
    "print(\"Test Set Balanced Accuracy: {:.3f} %\".format(balanced_accuracy_score(y_test, y_pred_RF)))\n",
    "print(\"Test Set Matthews Correlation Coefficient: {:.3f} %\".format(matthews_corrcoef(y_test, y_pred_RF)))\n",
    "print(\"Test Set ROC AUC: {:.3f} %\".format(roc_auc_score(y_test, y_pred_RF)))\n",
    "\n",
    "# Confusion Matrix\n",
    "plt.rcParams[\"font.size\"] = 18\n",
    "\n",
    "disp = ConfusionMatrixDisplay.from_predictions(\n",
    "    y_true=y_test, \n",
    "    y_pred=y_pred_RF,\n",
    "    labels=RF.classes_, \n",
    "    display_labels=[\"Non-basalt\", \"Basalt\"],\n",
    "    colorbar=False,\n",
    "    text_kw={\"fontsize\": 20})\n",
    "\n",
    "plt.tight_layout()\n",
    "plt.savefig(\"outputs/confusion_baseline.png\", transparent=True)"
   ]
  },
  {
   "cell_type": "code",
   "execution_count": null,
   "metadata": {},
   "outputs": [],
   "source": [
    "# Add predictions back to the test set\n",
    "test['RF _Predictions'] = y_pred_RF\n",
    "hole = test.copy()\n",
    "\n",
    "hole = hole.sort_values(by=['DH_DEPTH_FROM'])"
   ]
  },
  {
   "cell_type": "code",
   "execution_count": null,
   "metadata": {},
   "outputs": [],
   "source": [
    "# Visualise striplot of predicitions\n",
    "# Compare the results of clustering and cuttings interp\n",
    "plt.rcParams[\"font.size\"] = 12\n",
    "\n",
    "d1 = {0: 1, 1: 2}\n",
    "colors1 = ['grey', 'purple']\n",
    "cmap1 = ListedColormap(colors1)\n",
    "\n",
    "d2 = {0: 1, 1: 2}\n",
    "colors2 = ['grey', 'purple']\n",
    "cmap2 = ListedColormap(colors2)\n",
    "\n",
    "def striplog(hole, bottom_depth, top_depth):\n",
    "    fig, ax = plt.subplots(figsize=(7,6))\n",
    "\n",
    "    #Set up the plot axes\n",
    "    ax1 = plt.subplot2grid((1,3), (0,0), rowspan=1, colspan = 1)\n",
    "    ax2 = plt.subplot2grid((1,3), (0,1), rowspan=1, colspan = 1, sharey = ax1)\n",
    "    ax3 = plt.subplot2grid((1,3), (0,2), rowspan=1, colspan = 1, sharey = ax1)\n",
    "\n",
    "    # MSDP01 Ti track\n",
    "    ax1.plot(hole[\"Ti_ppm\"], hole['DH_DEPTH_FROM'], color = \"black\", linewidth = 1.0)\n",
    "    ax1.set_xlabel(\"Ti_ppm\")\n",
    "    ax1.set_xlim(0, 15000)\n",
    "    ax1.xaxis.label.set_color(\"black\")\n",
    "    ax1.tick_params(axis='x', colors=\"black\")\n",
    "    ax1.spines[\"top\"].set_edgecolor(\"black\")\n",
    "    ax1.set_xticks(np.arange(0, 15000, 10000))\n",
    "\n",
    "    # Lithofacies\n",
    "    ax2.pcolormesh([-1, 2], hole['DH_DEPTH_FROM'], hole['LITHOLOGY_NAME'][:-1].map(d1).to_numpy().reshape(-1, 1),\n",
    "              cmap=cmap1, vmin=1, vmax=len(colors1))\n",
    "    ax2.set_xticks([])\n",
    "    ax2.set_aspect(0.01)\n",
    "    ax2.set_xlabel(\"MSDP01 Logged\")\n",
    "\n",
    "    # Predictions\n",
    "    ax3.pcolormesh([-1, 2], hole['DH_DEPTH_FROM'], hole['RF _Predictions'][:-1].map(d2).to_numpy().reshape(-1, 1),\n",
    "              cmap=cmap2, vmin=1, vmax=len(colors2))\n",
    "    ax3.set_xticks([])\n",
    "    ax3.set_aspect(0.01)\n",
    "    ax3.set_xlabel(\"MSDP01 Predicted\")\n",
    "\n",
    "    for ax in [ax1, ax2, ax3]:\n",
    "        ax.set_ylim(bottom_depth, top_depth)\n",
    "        ax.grid(which='major', color='lightgrey', linestyle='-', axis=\"y\")\n",
    "        ax.xaxis.set_ticks_position(\"bottom\")\n",
    "        ax.xaxis.set_label_position(\"top\")\n",
    "        ax.spines[\"top\"].set_position((\"axes\", 1.02))\n",
    "        \n",
    "    for ax in [ax2, ax3]:\n",
    "        plt.setp(ax.get_yticklabels(), visible = False)\n",
    "       \n",
    "    plt.tight_layout()\n",
    "    fig.subplots_adjust(wspace = 0.15)\n",
    "\n",
    "striplog(hole, 1120, 20)\n",
    "\n",
    "plt.savefig('outputs/MSDP01_Predictions.png', transparent = True)\n",
    "plt.show()\n"
   ]
  },
  {
   "attachments": {},
   "cell_type": "markdown",
   "metadata": {},
   "source": [
    "# Attempt Workflow using Synthetic Oversampling"
   ]
  },
  {
   "cell_type": "code",
   "execution_count": null,
   "metadata": {},
   "outputs": [],
   "source": [
    "# Invoke ADYSN oversampling to balance classes (ref)\n",
    "from imblearn.over_sampling import ADASYN\n",
    "from collections import Counter\n",
    "\n",
    "ada = ADASYN(random_state=42)\n",
    "\n",
    "X_res, y_res = ada.fit_resample(X_train, y_train)\n",
    "print('Resampled dataset shape %s' % Counter(y_res))"
   ]
  },
  {
   "attachments": {},
   "cell_type": "markdown",
   "metadata": {},
   "source": [
    "## Make plots to understand effect of ADYSN"
   ]
  },
  {
   "cell_type": "code",
   "execution_count": null,
   "metadata": {},
   "outputs": [],
   "source": [
    "plt.rcParams[\"font.size\"] = 12\n",
    "\n",
    "def adysn_histograms(X, y, X_res, y_res, elem, logx=False):\n",
    "\n",
    "    data_orig = pd.concat([X, y], axis=1).assign(Lithology=y.apply(lambda x: \"Basalt\" if x == 1 else \"Non-basalt\")).sort_values(\"Lithology\")\n",
    "    data_adysn = pd.concat([X_res, y_res], axis=1).assign(Lithology=y_res.apply(lambda x: \"Basalt\" if x == 1 else \"Non-basalt\")).sort_values(\"Lithology\")\n",
    "\n",
    "    if logx:\n",
    "        data_orig[\"log \" + elem] = np.log10(data_orig[elem])\n",
    "        data_adysn[\"log \" + elem] = np.log10(data_adysn[elem])\n",
    "        elem = \"log \" + elem\n",
    "\n",
    "    fig, ax = plt.subplots(nrows=2, ncols=1, figsize=(5,5), sharex=True, sharey=True)\n",
    "    sns.histplot(\n",
    "        data = data_orig, \n",
    "        x=elem, \n",
    "        hue=\"Lithology\", \n",
    "        bins=60, \n",
    "        ax=ax[0], \n",
    "        multiple='stack',\n",
    "        palette={\"Basalt\": \"purple\", \"Non-basalt\": \"lightgrey\"}\n",
    "    )\n",
    "    sns.histplot(\n",
    "        data = data_adysn, \n",
    "        x=elem, \n",
    "        hue=\"Lithology\", \n",
    "        bins=60, \n",
    "        ax=ax[1], \n",
    "        multiple='stack', \n",
    "        palette={\"Basalt\": \"purple\", \"Non-basalt\": \"lightgrey\"},\n",
    "        legend=False)\n",
    "    # Fix the legend so it's not on top of the bars.\n",
    "    # legend = ax[0].get_legend()\n",
    "    # legend.set_bbox_to_anchor((1, 1))\n",
    "    plt.xlabel(elem)\n",
    "    ax[0].set_title(\"Original data\")\n",
    "    ax[1].set_title(\"After ADYSN\")\n",
    "    plt.tight_layout()\n",
    "\n",
    "    return(fig)\n"
   ]
  },
  {
   "cell_type": "code",
   "execution_count": null,
   "metadata": {},
   "outputs": [],
   "source": [
    "plt.rcParams[\"font.size\"] = 12\n",
    "\n",
    "def adysn_scatter(X, y, X_res, y_res, x_elem, y_elem, logx=False, logy=False):\n",
    "\n",
    "    data_orig = pd.concat([X, y], axis=1).assign(Lithology=y.apply(lambda x: \"Basalt\" if x == 1 else \"Non-basalt\")).sort_values(\"Lithology\", ascending=False)\n",
    "    data_adysn = pd.concat([X_res, y_res], axis=1).assign(Lithology=y_res.apply(lambda x: \"Basalt\" if x == 1 else \"Non-basalt\")).sort_values(\"Lithology\", ascending=False)\n",
    "\n",
    "    fig, ax = plt.subplots(nrows=1, ncols=2, figsize=(10,5), sharex=True, sharey=True)\n",
    "    sns.scatterplot(\n",
    "        data = data_orig, \n",
    "        x=x_elem, \n",
    "        y=y_elem,\n",
    "        hue=\"Lithology\", \n",
    "        ax=ax[0], \n",
    "        palette={\"Basalt\": \"purple\", \"Non-basalt\": \"lightgrey\"}\n",
    "    )\n",
    "    sns.scatterplot(\n",
    "        data = data_adysn, \n",
    "        x=x_elem, \n",
    "        y=y_elem,\n",
    "        hue=\"Lithology\", \n",
    "        ax=ax[1], \n",
    "        palette={\"Basalt\": \"purple\", \"Non-basalt\": \"lightgrey\"},\n",
    "        legend=False)\n",
    "    # Fix the legend so it's not on top of the bars.\n",
    "    # legend = ax[0].get_legend()\n",
    "    # legend.set_bbox_to_anchor((1, 1))\n",
    "    ax[0].set_title(\"Original data\")\n",
    "    ax[1].set_title(\"After ADYSN\")\n",
    "    if logx:\n",
    "        ax[0].set_xscale(\"log\")\n",
    "        ax[1].set_xscale(\"log\")\n",
    "    if logy:\n",
    "        ax[0].set_yscale(\"log\")\n",
    "        ax[1].set_yscale(\"log\")\n",
    "    plt.tight_layout()\n",
    "\n",
    "    return(fig)"
   ]
  },
  {
   "cell_type": "code",
   "execution_count": null,
   "metadata": {},
   "outputs": [],
   "source": [
    "fig = adysn_histograms(X_train, y_train, X_res, y_res, \"P_ppm\")\n",
    "plt.savefig(\"outputs/histograms_adysn_P.png\", transparent=True)\n",
    "plt.show()"
   ]
  },
  {
   "cell_type": "code",
   "execution_count": null,
   "metadata": {},
   "outputs": [],
   "source": [
    "fig = adysn_histograms(X_train, y_train, X_res, y_res, \"Ti_ppm\")\n",
    "plt.savefig(\"outputs/histograms_adysn_Ti.png\", transparent=True)\n",
    "plt.show()"
   ]
  },
  {
   "cell_type": "code",
   "execution_count": null,
   "metadata": {},
   "outputs": [],
   "source": [
    "fig = adysn_scatter(X_train, y_train, X_res, y_res, \"Zr_ppm\", \"Ti_ppm\")\n",
    "plt.savefig(\"outputs/scatter_adysn_Ti.png\", transparent=True)\n",
    "plt.show()"
   ]
  },
  {
   "cell_type": "code",
   "execution_count": null,
   "metadata": {},
   "outputs": [],
   "source": [
    "fig = adysn_histograms(X_train, y_train, X_res, y_res, \"Be_ppm\", logx=True)\n",
    "plt.savefig(\"outputs/histograms_adysn_Be.png\", transparent=True)\n",
    "plt.show()"
   ]
  },
  {
   "cell_type": "code",
   "execution_count": null,
   "metadata": {},
   "outputs": [],
   "source": [
    "fig = adysn_scatter(X_train, y_train, X_res, y_res, \"Be_ppm\", \"Ti_ppm\", logx=True)\n",
    "plt.savefig(\"outputs/scatter_adysn_Ti-Be.png\", transparent=True)\n",
    "plt.show()"
   ]
  },
  {
   "cell_type": "code",
   "execution_count": null,
   "metadata": {},
   "outputs": [],
   "source": [
    "# Re run model with Synthetic Oversampling\n",
    "\n",
    "RF_ada = RandomForestClassifier(random_state=42) # Create classifier\n",
    "RF_ada.fit(X_res, y_res) # train the model\n",
    "y_pred_train = RF_ada.predict(X_res) # generate predictions for training set\n",
    "y_pred_RF = RF_ada.predict(X_test) # generate predictions for test set\n",
    "\n",
    "# Calculate the Performance Metrics\n",
    "print(\"Test Set Balanced Accuracy: {:.3f} %\".format(balanced_accuracy_score(y_test, y_pred_RF)))\n",
    "print(\"Test Set Matthews Correlation Coefficient: {:.3f} %\".format(matthews_corrcoef(y_test, y_pred_RF)))\n",
    "print(\"Test Set ROC AUC: {:.3f} %\".format(roc_auc_score(y_test, y_pred_RF)))\n",
    "\n",
    "# Confusion Matrix\n",
    "disp = ConfusionMatrixDisplay.from_predictions(\n",
    "    y_true=y_test, \n",
    "    y_pred=y_pred_RF,\n",
    "    labels=RF_ada.classes_, \n",
    "    display_labels=[\"Non-basalt\", \"Basalt\"],\n",
    "    colorbar=False,\n",
    "    text_kw={\"fontsize\": 20})\n",
    "\n",
    "plt.tight_layout()\n",
    "plt.savefig(\"outputs/confusion_adysn.png\", transparent=True)"
   ]
  },
  {
   "attachments": {},
   "cell_type": "markdown",
   "metadata": {},
   "source": [
    "# Recursive Feature Elimination\n",
    "\n",
    "(This section is commented out because it was removed from the worshop)"
   ]
  },
  {
   "cell_type": "code",
   "execution_count": null,
   "metadata": {},
   "outputs": [],
   "source": [
    "# # Removing Correlated Features\n",
    "# corr_matrix = X_res.corr().abs()\n",
    "\n",
    "# # Select upper triangle of correlation matrix\n",
    "# upper = corr_matrix.where(np.triu(np.ones(corr_matrix.shape), k=1).astype(np.bool))\n",
    "\n",
    "# # Get features with correlations of greater than 0.8\n",
    "# to_drop = [column for column in upper.columns if any(upper[column] > 0.8)]\n",
    "\n",
    "# # Drop features \n",
    "# X_filt = X_res.copy()\n",
    "# X_filt.drop(to_drop, axis=1)\n",
    "\n",
    "# X_filt_test = X_test.copy()\n",
    "# X_filt_test.drop(to_drop, axis=1)"
   ]
  },
  {
   "cell_type": "code",
   "execution_count": null,
   "metadata": {},
   "outputs": [],
   "source": [
    "# # implement RFE with stratified sampling\n",
    "# from sklearn.feature_selection import RFECV\n",
    "# from sklearn.model_selection import StratifiedKFold\n",
    "\n",
    "# rfc = RandomForestClassifier(random_state=42)\n",
    "# rfecv = RFECV(estimator= rfc, step=1, cv=StratifiedKFold(3), scoring='roc_auc')\n",
    "# rfecv.fit(X_filt, y_res)"
   ]
  },
  {
   "cell_type": "code",
   "execution_count": null,
   "metadata": {},
   "outputs": [],
   "source": [
    "# # Visualise the affect on performance of RFE\n",
    "# print('Optimal number of features: {}'.format(rfecv.n_features_))\n",
    "\n",
    "# # Plot the accuracy obtained per each number of feature used\n",
    "# plt.figure(figsize=(16, 9))\n",
    "# plt.title('Recursive Feature Elimination with Cross-Validation', fontsize=16, fontweight='bold', pad=25)\n",
    "# plt.xlabel('No. Features', fontsize=16, labelpad=20)\n",
    "# plt.ylabel('ROC AUC', fontsize=14, labelpad=20)\n",
    "# plt.plot(range(1, len(rfecv.cv_results_['mean_test_score']) + 1), rfecv.cv_results_['mean_test_score'], color='black', linewidth=2)\n",
    "\n",
    "# plt.savefig('outputs/RFE_Performance')\n",
    "# plt.show()"
   ]
  },
  {
   "cell_type": "code",
   "execution_count": null,
   "metadata": {},
   "outputs": [],
   "source": [
    "# # Remove unwanted features\n",
    "# print(np.where(rfecv.support_ == False)[0])\n",
    "\n",
    "# # Filter variables\n",
    "# X_filt = X_res.drop(X_res.columns[np.where(rfecv.support_ == False)[0]], axis=1)\n",
    "# X_test_filt = X_test.drop(X_test.columns[np.where(rfecv.support_ == False)[0]], axis=1)"
   ]
  },
  {
   "cell_type": "code",
   "execution_count": null,
   "metadata": {},
   "outputs": [],
   "source": [
    "# # Visualise the Feature Importances\n",
    "\n",
    "# dset = pd.DataFrame()\n",
    "# dset['attr'] = X_filt.columns\n",
    "# dset['importance'] = rfecv.estimator_.feature_importances_\n",
    "\n",
    "# dset = dset.sort_values(by='importance', ascending=False)\n",
    "\n",
    "\n",
    "# plt.figure(figsize=(16, 14))\n",
    "# plt.barh(y=dset['attr'], width=dset['importance'], color='#1976D2')\n",
    "# plt.title('RFECV - Feature Importance', fontsize=20, fontweight='bold', pad=20)\n",
    "# plt.xlabel('Importance', fontsize=14, labelpad=20)\n",
    "\n",
    "# plt.savefig('outputs/RFE_Performance.png')\n",
    "# plt.show()"
   ]
  },
  {
   "cell_type": "code",
   "execution_count": null,
   "metadata": {},
   "outputs": [],
   "source": [
    "# Retrain and Test the model with RFE nd Cross Val\n",
    "\n",
    "# RF_rfe = RandomForestClassifier(random_state=42) # Create classifier\n",
    "# RF_rfe.fit(X_filt, y_res) # train the model\n",
    "# y_pred_train = RF_rfe.predict(X_filt) # generate predictions for training set\n",
    "# y_pred_RF = RF_rfe.predict(X_test_filt) # generate predictions for test set\n",
    "\n",
    "# # Calculate the Performance Metrics\n",
    "# print(\"Test Set Balanced Accuracy: {:.3f} %\".format(balanced_accuracy_score(y_test, y_pred_RF)))\n",
    "# print(\"Test Set Matthews Correlation Coefficient: {:.3f} %\".format(matthews_corrcoef(y_test, y_pred_RF)))\n",
    "# print(\"Test Set ROC AUC: {:.3f} %\".format(roc_auc_score(y_test, y_pred_RF)))\n",
    "\n",
    "# # Confusion Matrix\n",
    "# cm = confusion_matrix(y_test, y_pred_RF, labels=RF.classes_)\n",
    "# disp = ConfusionMatrixDisplay(confusion_matrix=cm, display_labels=RF.classes_)\n",
    "# disp.plot()\n",
    "\n",
    "# plt.show()"
   ]
  },
  {
   "attachments": {},
   "cell_type": "markdown",
   "metadata": {},
   "source": [
    "# Model Explainability, Feature Importance"
   ]
  },
  {
   "cell_type": "code",
   "execution_count": null,
   "metadata": {},
   "outputs": [],
   "source": [
    "import shap\n",
    "shap.initjs()"
   ]
  },
  {
   "attachments": {},
   "cell_type": "markdown",
   "metadata": {},
   "source": [
    "For the basic model"
   ]
  },
  {
   "cell_type": "code",
   "execution_count": null,
   "metadata": {},
   "outputs": [],
   "source": [
    "# Fits the explainer\n",
    "explainer = shap.Explainer(RF.predict, X_test)\n",
    "# Calculates the SHAP values - It takes some time\n",
    "shap_values = explainer(X_test)"
   ]
  },
  {
   "cell_type": "code",
   "execution_count": null,
   "metadata": {},
   "outputs": [],
   "source": [
    "fig = shap.summary_plot(shap_values, plot_type='dot', max_display=10, show=False, plot_size=(5,5))\n",
    "plt.title(\"Model without ADYSN\")\n",
    "plt.savefig(\"outputs/shap_summary_normal.png\", transparent=True)\n",
    "plt.show()"
   ]
  },
  {
   "attachments": {},
   "cell_type": "markdown",
   "metadata": {},
   "source": [
    "And for the ADYSN model"
   ]
  },
  {
   "cell_type": "code",
   "execution_count": null,
   "metadata": {},
   "outputs": [],
   "source": [
    "# Fits the explainer\n",
    "explainer_ada = shap.Explainer(RF_ada.predict, X_test)\n",
    "# Calculates the SHAP values - It takes some time\n",
    "shap_values_ada = explainer(X_test)"
   ]
  },
  {
   "cell_type": "code",
   "execution_count": null,
   "metadata": {},
   "outputs": [],
   "source": [
    "fig = shap.summary_plot(shap_values_ada, plot_type='dot', max_display=10, show=False, plot_size=(5,5))\n",
    "plt.title(\"Model with ADYSN\")\n",
    "plt.savefig(\"outputs/shap_summary_adysn.png\", transparent=True)\n",
    "plt.show()"
   ]
  },
  {
   "cell_type": "code",
   "execution_count": null,
   "metadata": {},
   "outputs": [],
   "source": [
    "# Waterfall plot for one record\n",
    "shap.plots.waterfall(shap_values[30])"
   ]
  },
  {
   "cell_type": "code",
   "execution_count": null,
   "metadata": {},
   "outputs": [],
   "source": [
    "# Force plot for one record\n",
    "shap.plots.force(shap_values[30])"
   ]
  },
  {
   "attachments": {},
   "cell_type": "markdown",
   "metadata": {},
   "source": [
    "# Design a Spatial Validation Approach"
   ]
  },
  {
   "cell_type": "code",
   "execution_count": null,
   "metadata": {},
   "outputs": [],
   "source": [
    "print(holes)"
   ]
  },
  {
   "cell_type": "code",
   "execution_count": null,
   "metadata": {},
   "outputs": [],
   "source": [
    "# Create a loop to generate predicts for every hole\n",
    "from sklearn.metrics import matthews_corrcoef, balanced_accuracy_score, roc_auc_score, f1_score, recall_score \n",
    "import statistics\n",
    "\n",
    "# Create lists to append to\n",
    "ROC = []\n",
    "f1 = []\n",
    "acc = []\n",
    "rec = []\n",
    "probs = []\n",
    "hole = []\n",
    "\n",
    "# Create a list of Validation holes (those that contain basalt)\n",
    "Validation = [\"MSDP01\", \"MSDP02\", \"MSDP03\", \"MSDP04\"]\n",
    "\n",
    "for h in holes:\n",
    "    test, train = hold_out(h)\n",
    "\n",
    "    # split out variables\n",
    "    X_test = test.loc[:,'Ag_ppm':'Zr_ppm']\n",
    "    X_train = train.loc[:,'Ag_ppm':'Zr_ppm']\n",
    "\n",
    "    y_test = test['LITHOLOGY_NAME']\n",
    "    y_train = train['LITHOLOGY_NAME']\n",
    "\n",
    "    # Resample using ADYSN\n",
    "    X_res, y_res = ada.fit_resample(X_train, y_train)\n",
    "    \n",
    "    # train model and run inference\n",
    "    RF = RandomForestClassifier(random_state=42) # Create classifier\n",
    "    RF.fit(X_res, y_res) # train the model\n",
    "    y_pred_train = RF.predict(X_res) # generate predictions for training set\n",
    "    y_pred_RF = RF.predict(X_test) # generate predictions for test set\n",
    "    \n",
    "    probs.append(RF.predict_proba(X_test)[:,1]) # generate probabilities for each prediction\n",
    "\n",
    "    # get name of hole for each iteration \n",
    "    hole.append(h)\n",
    "\n",
    "\n",
    "    # append performance metrics\n",
    "    acc.append(balanced_accuracy_score(y_test, y_pred_RF))\n",
    "\n",
    "# Print Average Performance Metrics\n",
    "print(\"Test Set Accuracy: {:.3f} %\"  .format(statistics.mean(acc)*100))\n",
    "print(\"Accuracy Standard Deviation: {:.3f} %\"  .format(statistics.stdev(acc)*100))"
   ]
  },
  {
   "cell_type": "code",
   "execution_count": null,
   "metadata": {},
   "outputs": [],
   "source": [
    "probs_dict = dict(zip(hole, probs))"
   ]
  },
  {
   "cell_type": "code",
   "execution_count": null,
   "metadata": {},
   "outputs": [],
   "source": [
    "histdata = pd.DataFrame.from_records(dict(zip(holes, acc)), index=[\"Avg accuracy\"]).T.reset_index(names=\"DH_NAME\")\n",
    "\n",
    "plt.rcParams[\"font.size\"] = 12\n",
    "fig, ax = plt.subplots(figsize = (5,4))\n",
    "sns.histplot(histdata, x='DH_NAME', weights='Avg accuracy', shrink=0.8, ax=ax, color=\"skyblue\")\n",
    "plt.yticks(ticks=np.arange(0, 1.2, 0.2), labels = np.arange(0, 120, 20))\n",
    "plt.xticks(rotation=60)\n",
    "plt.xlabel(\"Drillhole name\")\n",
    "plt.ylabel(\"Avg prediction accuracy\")\n",
    "plt.title(\"Avg accuracy for each held-out hole\")\n",
    "plt.tight_layout()\n",
    "plt.savefig('outputs/accuracy_per_hole.png', transparent=True)\n",
    "\n"
   ]
  },
  {
   "attachments": {},
   "cell_type": "markdown",
   "metadata": {},
   "source": [
    "## Investigate predictions"
   ]
  },
  {
   "cell_type": "code",
   "execution_count": null,
   "metadata": {},
   "outputs": [],
   "source": [
    "#Create function for strip log\n",
    "def striplog_2(hole, bottom_depth, top_depth, var1, var2, d1, colors1, cmap1, lith_var=\"LITHOLOGY_NAME\"):\n",
    "    fig, ax = plt.subplots(figsize=(7,5))\n",
    "\n",
    "    #Set up the plot axes\n",
    "    ax1 = plt.subplot2grid((1,3), (0,0), rowspan=1, colspan = 1)\n",
    "    ax2 = plt.subplot2grid((1,3), (0,1), rowspan=1, colspan = 1, sharey = ax1)\n",
    "    ax3 = plt.subplot2grid((1,3), (0,2), rowspan=1, colspan = 1, sharey = ax1)\n",
    "\n",
    "    # MSDP01 Ti track\n",
    "    ax1.plot(hole[var1], hole['DH_DEPTH_FROM'], color = \"black\", linewidth = 1.0)\n",
    "    ax1.set_xlabel(var1)\n",
    "    # ax1.set_xlim(0, 5000)\n",
    "    ax1.xaxis.label.set_color(\"black\")\n",
    "    ax1.tick_params(axis='x', colors=\"black\")\n",
    "    ax1.spines[\"top\"].set_edgecolor(\"black\")\n",
    "    # ax1.set_xticks(np.arange(0, 5000, 2000))\n",
    "\n",
    "    # MSDP01 P track\n",
    "    ax2.plot(hole[var2], hole['DH_DEPTH_FROM'], color = \"black\", linewidth = 1.0)\n",
    "    ax2.set_xlabel(var2)\n",
    "    ax2.set_xlim(0, 1)\n",
    "    ax2.xaxis.label.set_color(\"black\")\n",
    "    ax2.tick_params(axis='x', colors=\"black\")\n",
    "    ax2.spines[\"top\"].set_edgecolor(\"black\")\n",
    "    ax2.set_xticks([0, 0.5, 1])\n",
    "\n",
    "    # Lithofacies\n",
    "    ax3.pcolormesh([-1, 1], hole['DH_DEPTH_FROM'], hole[lith_var][:-1].map(d1).to_numpy().reshape(-1, 1),\n",
    "              cmap=cmap1, vmin=1, vmax=len(colors1))\n",
    "    ax3.set_xticks([])\n",
    "    ax3.set_aspect(0.01)\n",
    "    ax3.set_xlabel(\"Logged Lithofacies\")\n",
    "\n",
    "    for ax in [ax1, ax2, ax3]:\n",
    "        ax.set_ylim(bottom_depth, top_depth)\n",
    "        ax.grid(which='major', color='lightgrey', linestyle='-', axis=\"y\")\n",
    "        ax.xaxis.set_ticks_position(\"bottom\")\n",
    "        ax.xaxis.set_label_position(\"top\")\n",
    "        ax.spines[\"top\"].set_position((\"axes\", 1.02))\n",
    "        \n",
    "    for ax in [ax2, ax3]:\n",
    "        plt.setp(ax.get_yticklabels(), visible = False)\n",
    "       \n",
    "    fig.subplots_adjust(wspace = 0.15)\n",
    "    plt.tight_layout()\n",
    "    return(fig)"
   ]
  },
  {
   "cell_type": "code",
   "execution_count": null,
   "metadata": {},
   "outputs": [],
   "source": [
    "# group by MSDP02\n",
    "hole = df.loc[df['DH_NAME'] == 'MSDP02']\n",
    "hole = hole.dropna(subset = ['LITHOLOGY_NAME'])\n",
    "hole = hole.sort_values(by=['DH_DEPTH_FROM'])\n",
    "hole['MSDP02_Preds'] = probs[1]\n",
    "\n",
    "print(hole['LITHOLOGY_NAME'].unique())\n",
    "\n",
    "# Visualise Lithologies and Prdictions on Low Proability Hole\n",
    "plt.rcParams[\"font.size\"] = 12\n",
    "# Compare the results of clustering and cuttings interp\n",
    "d1 = {'Siltstone': 1, 'Sandstone': 2, 'Conglomerate': 3, 'Dolomite Rock': 4, 'Autobreccia': 5, 'Basalt': 6}\n",
    "colors1 = ['green', 'orange','yellow', 'blue', 'red', 'purple']\n",
    "cmap1 = ListedColormap(colors1)\n",
    "\n",
    "striplog_2(hole, 560, 60, \"V_ppm\", \"MSDP02_Preds\", d1, colors1, cmap1)\n",
    "\n",
    "plt.savefig('outputs/MSDP02.png', transparent=True)\n",
    "plt.show()"
   ]
  },
  {
   "cell_type": "code",
   "execution_count": null,
   "metadata": {},
   "outputs": [],
   "source": [
    "# Add average predicted basalt probabilities from model to a dataframe \n",
    "av_prob = []\n",
    "for h in probs:\n",
    "    av_prob.append(np.mean(h))\n",
    "\n",
    "map['Basalt_prob'] = av_prob\n",
    "\n",
    "map.to_csv('outputs/map.csv')"
   ]
  },
  {
   "cell_type": "code",
   "execution_count": null,
   "metadata": {},
   "outputs": [],
   "source": [
    "# Show differences in the most important feature across holes\n",
    "df.groupby([\"DH_NAME\"])[\"Sc_ppm\", \"Be_ppm\", \"Co_ppm\"].mean().plot.bar()"
   ]
  },
  {
   "cell_type": "code",
   "execution_count": null,
   "metadata": {},
   "outputs": [],
   "source": [
    "# Show differences in the most important feature across holes\n",
    "df.groupby([\"DH_NAME\"])[\"Ti_ppm\", \"V_ppm\"].mean().plot.bar()"
   ]
  },
  {
   "cell_type": "code",
   "execution_count": null,
   "metadata": {},
   "outputs": [],
   "source": [
    "plt.rcParams[\"font.size\"] = 14\n",
    "\n",
    "fig, ax = plt.subplots(nrows=1, ncols=1, figsize=(8, 5))\n",
    "data_for_plot = df.sort_values(\"Lithology_simplified\", ascending=False)\n",
    "data_for_plot[\"Hole_of_interest\"] = data_for_plot[\"DH_NAME\"].apply(lambda x: x if x == \"MSDP02\" else \"Other holes\")\n",
    "plt.sca(ax)\n",
    "sns.scatterplot(data=data_for_plot, \n",
    "                x=\"Zr_ppm\", y=\"V_ppm\", hue=\"Lithology_simplified\", style=\"Hole_of_interest\",\n",
    "                palette={\"Other\": \"lightgrey\", \"Basalt\": \"purple\", \"Rhyolite\": \"red\", \"Dacite\": \"green\", \"Meta-Mafic Igneous\": \"orange\", \"Dolerite\": \"skyblue\", \"Gabbro\": \"skyblue\"},\n",
    "                legend=True)\n",
    "plt.xscale(\"linear\")\n",
    "plt.yscale(\"linear\")\n",
    "legend = ax.get_legend()\n",
    "legend.set_title(None)\n",
    "# legend.set_bbox_to_anchor((0.5, 0.5))\n",
    "plt.legend(fontsize=12)\n",
    "plt.tight_layout()\n",
    "plt.savefig(\"outputs/chemistry_scatterplots_w_hole_marked.png\", transparent = True)\n",
    "plt.show()"
   ]
  },
  {
   "cell_type": "code",
   "execution_count": null,
   "metadata": {},
   "outputs": [],
   "source": [
    "# group by MSDP12\n",
    "hole = df.loc[df['DH_NAME'] == 'MSDP12']\n",
    "hole = hole.dropna(subset = ['LITHOLOGY_NAME'])\n",
    "hole = hole.sort_values(by=['DH_DEPTH_FROM'])\n",
    "hole['MSDP12_Preds'] = probs[11]\n",
    "\n",
    "print(hole['LITHOLOGY_NAME'].unique())\n",
    "\n",
    "# Visualise Lithologies and Prdictions on Low Proability Hole\n",
    "\n",
    "# Compare the results of clustering and cuttings interp\n",
    "d1 = {'Amphibolite': 1, 'Augen Gneiss': 2, 'Quartz Rock (Metasomatic)': 3, 'Orthogneiss': 4, 'Meta-Mafic Igneous Rock': 5, 'Pegmatite (No Composition)': 6,\n",
    "      'Metagranite': 7, 'Fault Breccia': 8, 'Dacite': 9}\n",
    "colors1 = ['lightgrey', 'lightgrey','lightgrey', 'lightgrey', 'orange', 'lightgrey', 'lightgrey', 'lightgrey', 'lightgrey', 'lightgrey']\n",
    "cmap1 = ListedColormap(colors1)\n",
    "\n",
    "striplog_2(hole, 500, 0, \"Ti_ppm\", \"MSDP12_Preds\", d1, colors1, cmap1)\n",
    "\n",
    "plt.savefig('outputs/MSDP12.png', transparent=True)\n",
    "plt.show()"
   ]
  },
  {
   "cell_type": "code",
   "execution_count": null,
   "metadata": {},
   "outputs": [],
   "source": [
    "# group by MSDP11\n",
    "hole = df.loc[df['DH_NAME'] == 'MSDP11']\n",
    "hole = hole.dropna(subset = ['LITHOLOGY_NAME'])\n",
    "hole = hole.sort_values(by=['DH_DEPTH_FROM'])\n",
    "hole['MSDP11_Preds'] = probs_dict[\"MSDP11\"]\n",
    "\n",
    "print(hole['LITHOLOGY_NAME'].unique())\n",
    "\n",
    "# Visualise Lithologies and Prdictions on Low Proability Hole\n",
    "\n",
    "# Compare the results of clustering and cuttings interp\n",
    "d1 = {'Saprolite':1, 'Metagranite':2, 'Pegmatite (No Composition)':3,\n",
    "       'Meta-Mafic Igneous Rock':4, 'Dolerite':5, 'Rhyolite':6, 'Porphyry':7,\n",
    "       'Magnetite-Rich Rock (Metasomatic)':8, 'Skarn':9, 'Gneiss':10}\n",
    "colors1 = ['lightgrey', 'lightgrey', 'lightgrey', 'orange', 'skyblue', 'lightgrey', 'lightgrey', 'lightgrey','lightgrey','lightgrey']\n",
    "cmap1 = ListedColormap(colors1)\n",
    "\n",
    "striplog_2(hole, 500, 0, \"Ti_ppm\", \"MSDP11_Preds\", d1, colors1, cmap1)\n",
    "\n",
    "plt.savefig('outputs/MSDP11.png', transparent=True)\n",
    "plt.show()"
   ]
  },
  {
   "cell_type": "code",
   "execution_count": null,
   "metadata": {},
   "outputs": [],
   "source": []
  }
 ],
 "metadata": {
  "kernelspec": {
   "display_name": "chem_lith_classifier",
   "language": "python",
   "name": "python3"
  },
  "language_info": {
   "codemirror_mode": {
    "name": "ipython",
    "version": 3
   },
   "file_extension": ".py",
   "mimetype": "text/x-python",
   "name": "python",
   "nbconvert_exporter": "python",
   "pygments_lexer": "ipython3",
   "version": "3.9.16"
  },
  "orig_nbformat": 4
 },
 "nbformat": 4,
 "nbformat_minor": 2
}
